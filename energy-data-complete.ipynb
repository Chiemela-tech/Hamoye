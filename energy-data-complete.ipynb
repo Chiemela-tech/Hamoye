{
 "cells": [
  {
   "cell_type": "code",
   "execution_count": 1,
   "id": "5ef7e465",
   "metadata": {
    "_cell_guid": "b1076dfc-b9ad-4769-8c92-a6c4dae69d19",
    "_uuid": "8f2839f25d086af736a60e9eeb907d3b93b6e0e5",
    "execution": {
     "iopub.execute_input": "2023-06-07T16:19:52.802382Z",
     "iopub.status.busy": "2023-06-07T16:19:52.801566Z",
     "iopub.status.idle": "2023-06-07T16:19:52.831261Z",
     "shell.execute_reply": "2023-06-07T16:19:52.830182Z"
    },
    "papermill": {
     "duration": 0.048702,
     "end_time": "2023-06-07T16:19:52.833813",
     "exception": false,
     "start_time": "2023-06-07T16:19:52.785111",
     "status": "completed"
    },
    "tags": []
   },
   "outputs": [
    {
     "name": "stdout",
     "output_type": "stream",
     "text": [
      "/kaggle/input/energy-dataset/energydata_complete.csv\n"
     ]
    }
   ],
   "source": [
    "# This Python 3 environment comes with many helpful analytics libraries installed\n",
    "# It is defined by the kaggle/python Docker image: https://github.com/kaggle/docker-python\n",
    "# For example, here's several helpful packages to load\n",
    "\n",
    "import numpy as np # linear algebra\n",
    "import pandas as pd # data processing, CSV file I/O (e.g. pd.read_csv)\n",
    "\n",
    "# Input data files are available in the read-only \"../input/\" directory\n",
    "# For example, running this (by clicking run or pressing Shift+Enter) will list all files under the input directory\n",
    "\n",
    "import os\n",
    "for dirname, _, filenames in os.walk('/kaggle/input'):\n",
    "    for filename in filenames:\n",
    "        print(os.path.join(dirname, filename))\n",
    "\n",
    "# You can write up to 20GB to the current directory (/kaggle/working/) that gets preserved as output when you create a version using \"Save & Run All\" \n",
    "# You can also write temporary files to /kaggle/temp/, but they won't be saved outside of the current session"
   ]
  },
  {
   "cell_type": "code",
   "execution_count": 2,
   "id": "23a80182",
   "metadata": {
    "execution": {
     "iopub.execute_input": "2023-06-07T16:19:52.860241Z",
     "iopub.status.busy": "2023-06-07T16:19:52.859870Z",
     "iopub.status.idle": "2023-06-07T16:19:54.319081Z",
     "shell.execute_reply": "2023-06-07T16:19:54.317940Z"
    },
    "papermill": {
     "duration": 1.476104,
     "end_time": "2023-06-07T16:19:54.322223",
     "exception": false,
     "start_time": "2023-06-07T16:19:52.846119",
     "status": "completed"
    },
    "tags": []
   },
   "outputs": [],
   "source": [
    "# import pandas\n",
    "import pandas as pd\n",
    "import numpy as np\n",
    "import seaborn as sns\n",
    "import matplotlib.pyplot as plt"
   ]
  },
  {
   "cell_type": "markdown",
   "id": "bb2c87fb",
   "metadata": {
    "papermill": {
     "duration": 0.011921,
     "end_time": "2023-06-07T16:19:54.350686",
     "exception": false,
     "start_time": "2023-06-07T16:19:54.338765",
     "status": "completed"
    },
    "tags": []
   },
   "source": [
    "---\n",
    "Answer questions in Stage B\n",
    "---"
   ]
  },
  {
   "cell_type": "markdown",
   "id": "05673cd9",
   "metadata": {
    "papermill": {
     "duration": 0.011746,
     "end_time": "2023-06-07T16:19:54.374541",
     "exception": false,
     "start_time": "2023-06-07T16:19:54.362795",
     "status": "completed"
    },
    "tags": []
   },
   "source": [
    "* I would have a sneek peek into the data to be able to perform regression tasks effectively on it"
   ]
  },
  {
   "cell_type": "code",
   "execution_count": 3,
   "id": "e1bac926",
   "metadata": {
    "execution": {
     "iopub.execute_input": "2023-06-07T16:19:54.400388Z",
     "iopub.status.busy": "2023-06-07T16:19:54.400015Z",
     "iopub.status.idle": "2023-06-07T16:19:54.855728Z",
     "shell.execute_reply": "2023-06-07T16:19:54.854673Z"
    },
    "papermill": {
     "duration": 0.47185,
     "end_time": "2023-06-07T16:19:54.858497",
     "exception": false,
     "start_time": "2023-06-07T16:19:54.386647",
     "status": "completed"
    },
    "tags": []
   },
   "outputs": [
    {
     "data": {
      "text/html": [
       "<div>\n",
       "<style scoped>\n",
       "    .dataframe tbody tr th:only-of-type {\n",
       "        vertical-align: middle;\n",
       "    }\n",
       "\n",
       "    .dataframe tbody tr th {\n",
       "        vertical-align: top;\n",
       "    }\n",
       "\n",
       "    .dataframe thead th {\n",
       "        text-align: right;\n",
       "    }\n",
       "</style>\n",
       "<table border=\"1\" class=\"dataframe\">\n",
       "  <thead>\n",
       "    <tr style=\"text-align: right;\">\n",
       "      <th></th>\n",
       "      <th>date</th>\n",
       "      <th>Appliances</th>\n",
       "      <th>lights</th>\n",
       "      <th>T1</th>\n",
       "      <th>RH_1</th>\n",
       "      <th>T2</th>\n",
       "      <th>RH_2</th>\n",
       "      <th>T3</th>\n",
       "      <th>RH_3</th>\n",
       "      <th>T4</th>\n",
       "      <th>...</th>\n",
       "      <th>T9</th>\n",
       "      <th>RH_9</th>\n",
       "      <th>T_out</th>\n",
       "      <th>Press_mm_hg</th>\n",
       "      <th>RH_out</th>\n",
       "      <th>Windspeed</th>\n",
       "      <th>Visibility</th>\n",
       "      <th>Tdewpoint</th>\n",
       "      <th>rv1</th>\n",
       "      <th>rv2</th>\n",
       "    </tr>\n",
       "  </thead>\n",
       "  <tbody>\n",
       "    <tr>\n",
       "      <th>0</th>\n",
       "      <td>2016-01-11 17:00:00</td>\n",
       "      <td>60</td>\n",
       "      <td>30</td>\n",
       "      <td>19.890000</td>\n",
       "      <td>47.596667</td>\n",
       "      <td>19.200000</td>\n",
       "      <td>44.790000</td>\n",
       "      <td>19.790000</td>\n",
       "      <td>44.730000</td>\n",
       "      <td>19.000000</td>\n",
       "      <td>...</td>\n",
       "      <td>17.033333</td>\n",
       "      <td>45.5300</td>\n",
       "      <td>6.600000</td>\n",
       "      <td>733.5</td>\n",
       "      <td>92.000000</td>\n",
       "      <td>7.000000</td>\n",
       "      <td>63.000000</td>\n",
       "      <td>5.300000</td>\n",
       "      <td>13.275433</td>\n",
       "      <td>13.275433</td>\n",
       "    </tr>\n",
       "    <tr>\n",
       "      <th>1</th>\n",
       "      <td>2016-01-11 17:10:00</td>\n",
       "      <td>60</td>\n",
       "      <td>30</td>\n",
       "      <td>19.890000</td>\n",
       "      <td>46.693333</td>\n",
       "      <td>19.200000</td>\n",
       "      <td>44.722500</td>\n",
       "      <td>19.790000</td>\n",
       "      <td>44.790000</td>\n",
       "      <td>19.000000</td>\n",
       "      <td>...</td>\n",
       "      <td>17.066667</td>\n",
       "      <td>45.5600</td>\n",
       "      <td>6.483333</td>\n",
       "      <td>733.6</td>\n",
       "      <td>92.000000</td>\n",
       "      <td>6.666667</td>\n",
       "      <td>59.166667</td>\n",
       "      <td>5.200000</td>\n",
       "      <td>18.606195</td>\n",
       "      <td>18.606195</td>\n",
       "    </tr>\n",
       "    <tr>\n",
       "      <th>2</th>\n",
       "      <td>2016-01-11 17:20:00</td>\n",
       "      <td>50</td>\n",
       "      <td>30</td>\n",
       "      <td>19.890000</td>\n",
       "      <td>46.300000</td>\n",
       "      <td>19.200000</td>\n",
       "      <td>44.626667</td>\n",
       "      <td>19.790000</td>\n",
       "      <td>44.933333</td>\n",
       "      <td>18.926667</td>\n",
       "      <td>...</td>\n",
       "      <td>17.000000</td>\n",
       "      <td>45.5000</td>\n",
       "      <td>6.366667</td>\n",
       "      <td>733.7</td>\n",
       "      <td>92.000000</td>\n",
       "      <td>6.333333</td>\n",
       "      <td>55.333333</td>\n",
       "      <td>5.100000</td>\n",
       "      <td>28.642668</td>\n",
       "      <td>28.642668</td>\n",
       "    </tr>\n",
       "    <tr>\n",
       "      <th>3</th>\n",
       "      <td>2016-01-11 17:30:00</td>\n",
       "      <td>50</td>\n",
       "      <td>40</td>\n",
       "      <td>19.890000</td>\n",
       "      <td>46.066667</td>\n",
       "      <td>19.200000</td>\n",
       "      <td>44.590000</td>\n",
       "      <td>19.790000</td>\n",
       "      <td>45.000000</td>\n",
       "      <td>18.890000</td>\n",
       "      <td>...</td>\n",
       "      <td>17.000000</td>\n",
       "      <td>45.4000</td>\n",
       "      <td>6.250000</td>\n",
       "      <td>733.8</td>\n",
       "      <td>92.000000</td>\n",
       "      <td>6.000000</td>\n",
       "      <td>51.500000</td>\n",
       "      <td>5.000000</td>\n",
       "      <td>45.410389</td>\n",
       "      <td>45.410389</td>\n",
       "    </tr>\n",
       "    <tr>\n",
       "      <th>4</th>\n",
       "      <td>2016-01-11 17:40:00</td>\n",
       "      <td>60</td>\n",
       "      <td>40</td>\n",
       "      <td>19.890000</td>\n",
       "      <td>46.333333</td>\n",
       "      <td>19.200000</td>\n",
       "      <td>44.530000</td>\n",
       "      <td>19.790000</td>\n",
       "      <td>45.000000</td>\n",
       "      <td>18.890000</td>\n",
       "      <td>...</td>\n",
       "      <td>17.000000</td>\n",
       "      <td>45.4000</td>\n",
       "      <td>6.133333</td>\n",
       "      <td>733.9</td>\n",
       "      <td>92.000000</td>\n",
       "      <td>5.666667</td>\n",
       "      <td>47.666667</td>\n",
       "      <td>4.900000</td>\n",
       "      <td>10.084097</td>\n",
       "      <td>10.084097</td>\n",
       "    </tr>\n",
       "    <tr>\n",
       "      <th>...</th>\n",
       "      <td>...</td>\n",
       "      <td>...</td>\n",
       "      <td>...</td>\n",
       "      <td>...</td>\n",
       "      <td>...</td>\n",
       "      <td>...</td>\n",
       "      <td>...</td>\n",
       "      <td>...</td>\n",
       "      <td>...</td>\n",
       "      <td>...</td>\n",
       "      <td>...</td>\n",
       "      <td>...</td>\n",
       "      <td>...</td>\n",
       "      <td>...</td>\n",
       "      <td>...</td>\n",
       "      <td>...</td>\n",
       "      <td>...</td>\n",
       "      <td>...</td>\n",
       "      <td>...</td>\n",
       "      <td>...</td>\n",
       "      <td>...</td>\n",
       "    </tr>\n",
       "    <tr>\n",
       "      <th>19730</th>\n",
       "      <td>2016-05-27 17:20:00</td>\n",
       "      <td>100</td>\n",
       "      <td>0</td>\n",
       "      <td>25.566667</td>\n",
       "      <td>46.560000</td>\n",
       "      <td>25.890000</td>\n",
       "      <td>42.025714</td>\n",
       "      <td>27.200000</td>\n",
       "      <td>41.163333</td>\n",
       "      <td>24.700000</td>\n",
       "      <td>...</td>\n",
       "      <td>23.200000</td>\n",
       "      <td>46.7900</td>\n",
       "      <td>22.733333</td>\n",
       "      <td>755.2</td>\n",
       "      <td>55.666667</td>\n",
       "      <td>3.333333</td>\n",
       "      <td>23.666667</td>\n",
       "      <td>13.333333</td>\n",
       "      <td>43.096812</td>\n",
       "      <td>43.096812</td>\n",
       "    </tr>\n",
       "    <tr>\n",
       "      <th>19731</th>\n",
       "      <td>2016-05-27 17:30:00</td>\n",
       "      <td>90</td>\n",
       "      <td>0</td>\n",
       "      <td>25.500000</td>\n",
       "      <td>46.500000</td>\n",
       "      <td>25.754000</td>\n",
       "      <td>42.080000</td>\n",
       "      <td>27.133333</td>\n",
       "      <td>41.223333</td>\n",
       "      <td>24.700000</td>\n",
       "      <td>...</td>\n",
       "      <td>23.200000</td>\n",
       "      <td>46.7900</td>\n",
       "      <td>22.600000</td>\n",
       "      <td>755.2</td>\n",
       "      <td>56.000000</td>\n",
       "      <td>3.500000</td>\n",
       "      <td>24.500000</td>\n",
       "      <td>13.300000</td>\n",
       "      <td>49.282940</td>\n",
       "      <td>49.282940</td>\n",
       "    </tr>\n",
       "    <tr>\n",
       "      <th>19732</th>\n",
       "      <td>2016-05-27 17:40:00</td>\n",
       "      <td>270</td>\n",
       "      <td>10</td>\n",
       "      <td>25.500000</td>\n",
       "      <td>46.596667</td>\n",
       "      <td>25.628571</td>\n",
       "      <td>42.768571</td>\n",
       "      <td>27.050000</td>\n",
       "      <td>41.690000</td>\n",
       "      <td>24.700000</td>\n",
       "      <td>...</td>\n",
       "      <td>23.200000</td>\n",
       "      <td>46.7900</td>\n",
       "      <td>22.466667</td>\n",
       "      <td>755.2</td>\n",
       "      <td>56.333333</td>\n",
       "      <td>3.666667</td>\n",
       "      <td>25.333333</td>\n",
       "      <td>13.266667</td>\n",
       "      <td>29.199117</td>\n",
       "      <td>29.199117</td>\n",
       "    </tr>\n",
       "    <tr>\n",
       "      <th>19733</th>\n",
       "      <td>2016-05-27 17:50:00</td>\n",
       "      <td>420</td>\n",
       "      <td>10</td>\n",
       "      <td>25.500000</td>\n",
       "      <td>46.990000</td>\n",
       "      <td>25.414000</td>\n",
       "      <td>43.036000</td>\n",
       "      <td>26.890000</td>\n",
       "      <td>41.290000</td>\n",
       "      <td>24.700000</td>\n",
       "      <td>...</td>\n",
       "      <td>23.200000</td>\n",
       "      <td>46.8175</td>\n",
       "      <td>22.333333</td>\n",
       "      <td>755.2</td>\n",
       "      <td>56.666667</td>\n",
       "      <td>3.833333</td>\n",
       "      <td>26.166667</td>\n",
       "      <td>13.233333</td>\n",
       "      <td>6.322784</td>\n",
       "      <td>6.322784</td>\n",
       "    </tr>\n",
       "    <tr>\n",
       "      <th>19734</th>\n",
       "      <td>2016-05-27 18:00:00</td>\n",
       "      <td>430</td>\n",
       "      <td>10</td>\n",
       "      <td>25.500000</td>\n",
       "      <td>46.600000</td>\n",
       "      <td>25.264286</td>\n",
       "      <td>42.971429</td>\n",
       "      <td>26.823333</td>\n",
       "      <td>41.156667</td>\n",
       "      <td>24.700000</td>\n",
       "      <td>...</td>\n",
       "      <td>23.200000</td>\n",
       "      <td>46.8450</td>\n",
       "      <td>22.200000</td>\n",
       "      <td>755.2</td>\n",
       "      <td>57.000000</td>\n",
       "      <td>4.000000</td>\n",
       "      <td>27.000000</td>\n",
       "      <td>13.200000</td>\n",
       "      <td>34.118851</td>\n",
       "      <td>34.118851</td>\n",
       "    </tr>\n",
       "  </tbody>\n",
       "</table>\n",
       "<p>19735 rows × 29 columns</p>\n",
       "</div>"
      ],
      "text/plain": [
       "                      date  Appliances  lights         T1       RH_1  \\\n",
       "0      2016-01-11 17:00:00          60      30  19.890000  47.596667   \n",
       "1      2016-01-11 17:10:00          60      30  19.890000  46.693333   \n",
       "2      2016-01-11 17:20:00          50      30  19.890000  46.300000   \n",
       "3      2016-01-11 17:30:00          50      40  19.890000  46.066667   \n",
       "4      2016-01-11 17:40:00          60      40  19.890000  46.333333   \n",
       "...                    ...         ...     ...        ...        ...   \n",
       "19730  2016-05-27 17:20:00         100       0  25.566667  46.560000   \n",
       "19731  2016-05-27 17:30:00          90       0  25.500000  46.500000   \n",
       "19732  2016-05-27 17:40:00         270      10  25.500000  46.596667   \n",
       "19733  2016-05-27 17:50:00         420      10  25.500000  46.990000   \n",
       "19734  2016-05-27 18:00:00         430      10  25.500000  46.600000   \n",
       "\n",
       "              T2       RH_2         T3       RH_3         T4  ...         T9  \\\n",
       "0      19.200000  44.790000  19.790000  44.730000  19.000000  ...  17.033333   \n",
       "1      19.200000  44.722500  19.790000  44.790000  19.000000  ...  17.066667   \n",
       "2      19.200000  44.626667  19.790000  44.933333  18.926667  ...  17.000000   \n",
       "3      19.200000  44.590000  19.790000  45.000000  18.890000  ...  17.000000   \n",
       "4      19.200000  44.530000  19.790000  45.000000  18.890000  ...  17.000000   \n",
       "...          ...        ...        ...        ...        ...  ...        ...   \n",
       "19730  25.890000  42.025714  27.200000  41.163333  24.700000  ...  23.200000   \n",
       "19731  25.754000  42.080000  27.133333  41.223333  24.700000  ...  23.200000   \n",
       "19732  25.628571  42.768571  27.050000  41.690000  24.700000  ...  23.200000   \n",
       "19733  25.414000  43.036000  26.890000  41.290000  24.700000  ...  23.200000   \n",
       "19734  25.264286  42.971429  26.823333  41.156667  24.700000  ...  23.200000   \n",
       "\n",
       "          RH_9      T_out  Press_mm_hg     RH_out  Windspeed  Visibility  \\\n",
       "0      45.5300   6.600000        733.5  92.000000   7.000000   63.000000   \n",
       "1      45.5600   6.483333        733.6  92.000000   6.666667   59.166667   \n",
       "2      45.5000   6.366667        733.7  92.000000   6.333333   55.333333   \n",
       "3      45.4000   6.250000        733.8  92.000000   6.000000   51.500000   \n",
       "4      45.4000   6.133333        733.9  92.000000   5.666667   47.666667   \n",
       "...        ...        ...          ...        ...        ...         ...   \n",
       "19730  46.7900  22.733333        755.2  55.666667   3.333333   23.666667   \n",
       "19731  46.7900  22.600000        755.2  56.000000   3.500000   24.500000   \n",
       "19732  46.7900  22.466667        755.2  56.333333   3.666667   25.333333   \n",
       "19733  46.8175  22.333333        755.2  56.666667   3.833333   26.166667   \n",
       "19734  46.8450  22.200000        755.2  57.000000   4.000000   27.000000   \n",
       "\n",
       "       Tdewpoint        rv1        rv2  \n",
       "0       5.300000  13.275433  13.275433  \n",
       "1       5.200000  18.606195  18.606195  \n",
       "2       5.100000  28.642668  28.642668  \n",
       "3       5.000000  45.410389  45.410389  \n",
       "4       4.900000  10.084097  10.084097  \n",
       "...          ...        ...        ...  \n",
       "19730  13.333333  43.096812  43.096812  \n",
       "19731  13.300000  49.282940  49.282940  \n",
       "19732  13.266667  29.199117  29.199117  \n",
       "19733  13.233333   6.322784   6.322784  \n",
       "19734  13.200000  34.118851  34.118851  \n",
       "\n",
       "[19735 rows x 29 columns]"
      ]
     },
     "metadata": {},
     "output_type": "display_data"
    }
   ],
   "source": [
    "#Load data\n",
    "energy_data = pd.read_csv(\"/kaggle/input/energy-dataset/energydata_complete.csv\")\n",
    "display(energy_data)"
   ]
  },
  {
   "cell_type": "code",
   "execution_count": 4,
   "id": "da861c33",
   "metadata": {
    "execution": {
     "iopub.execute_input": "2023-06-07T16:19:54.885950Z",
     "iopub.status.busy": "2023-06-07T16:19:54.885552Z",
     "iopub.status.idle": "2023-06-07T16:19:54.893817Z",
     "shell.execute_reply": "2023-06-07T16:19:54.892793Z"
    },
    "papermill": {
     "duration": 0.025112,
     "end_time": "2023-06-07T16:19:54.896304",
     "exception": false,
     "start_time": "2023-06-07T16:19:54.871192",
     "status": "completed"
    },
    "tags": []
   },
   "outputs": [
    {
     "data": {
      "text/plain": [
       "date            object\n",
       "Appliances       int64\n",
       "lights           int64\n",
       "T1             float64\n",
       "RH_1           float64\n",
       "T2             float64\n",
       "RH_2           float64\n",
       "T3             float64\n",
       "RH_3           float64\n",
       "T4             float64\n",
       "RH_4           float64\n",
       "T5             float64\n",
       "RH_5           float64\n",
       "T6             float64\n",
       "RH_6           float64\n",
       "T7             float64\n",
       "RH_7           float64\n",
       "T8             float64\n",
       "RH_8           float64\n",
       "T9             float64\n",
       "RH_9           float64\n",
       "T_out          float64\n",
       "Press_mm_hg    float64\n",
       "RH_out         float64\n",
       "Windspeed      float64\n",
       "Visibility     float64\n",
       "Tdewpoint      float64\n",
       "rv1            float64\n",
       "rv2            float64\n",
       "dtype: object"
      ]
     },
     "execution_count": 4,
     "metadata": {},
     "output_type": "execute_result"
    }
   ],
   "source": [
    "energy_data.dtypes"
   ]
  },
  {
   "cell_type": "markdown",
   "id": "5b8f7264",
   "metadata": {
    "papermill": {
     "duration": 0.012561,
     "end_time": "2023-06-07T16:19:54.921884",
     "exception": false,
     "start_time": "2023-06-07T16:19:54.909323",
     "status": "completed"
    },
    "tags": []
   },
   "source": [
    "* There are object, integer and float types of data in the dataset"
   ]
  },
  {
   "cell_type": "code",
   "execution_count": 5,
   "id": "4dacf468",
   "metadata": {
    "execution": {
     "iopub.execute_input": "2023-06-07T16:19:54.949671Z",
     "iopub.status.busy": "2023-06-07T16:19:54.949059Z",
     "iopub.status.idle": "2023-06-07T16:19:54.968600Z",
     "shell.execute_reply": "2023-06-07T16:19:54.967520Z"
    },
    "papermill": {
     "duration": 0.035996,
     "end_time": "2023-06-07T16:19:54.970870",
     "exception": false,
     "start_time": "2023-06-07T16:19:54.934874",
     "status": "completed"
    },
    "tags": []
   },
   "outputs": [
    {
     "data": {
      "text/plain": [
       "0       2016-01-11 17:00:00\n",
       "1       2016-01-11 17:10:00\n",
       "2       2016-01-11 17:20:00\n",
       "3       2016-01-11 17:30:00\n",
       "4       2016-01-11 17:40:00\n",
       "                ...        \n",
       "19730   2016-05-27 17:20:00\n",
       "19731   2016-05-27 17:30:00\n",
       "19732   2016-05-27 17:40:00\n",
       "19733   2016-05-27 17:50:00\n",
       "19734   2016-05-27 18:00:00\n",
       "Name: date, Length: 19735, dtype: datetime64[ns]"
      ]
     },
     "execution_count": 5,
     "metadata": {},
     "output_type": "execute_result"
    }
   ],
   "source": [
    "#convert the date to datetime format\n",
    "energy_data['date'] = pd.to_datetime(energy_data['date'])\n",
    "energy_data['date']"
   ]
  },
  {
   "cell_type": "code",
   "execution_count": 6,
   "id": "0190b4da",
   "metadata": {
    "execution": {
     "iopub.execute_input": "2023-06-07T16:19:54.999241Z",
     "iopub.status.busy": "2023-06-07T16:19:54.998586Z",
     "iopub.status.idle": "2023-06-07T16:19:55.009918Z",
     "shell.execute_reply": "2023-06-07T16:19:55.008899Z"
    },
    "papermill": {
     "duration": 0.02778,
     "end_time": "2023-06-07T16:19:55.012044",
     "exception": false,
     "start_time": "2023-06-07T16:19:54.984264",
     "status": "completed"
    },
    "tags": []
   },
   "outputs": [
    {
     "data": {
      "text/plain": [
       "date           0\n",
       "Appliances     0\n",
       "lights         0\n",
       "T1             0\n",
       "RH_1           0\n",
       "T2             0\n",
       "RH_2           0\n",
       "T3             0\n",
       "RH_3           0\n",
       "T4             0\n",
       "RH_4           0\n",
       "T5             0\n",
       "RH_5           0\n",
       "T6             0\n",
       "RH_6           0\n",
       "T7             0\n",
       "RH_7           0\n",
       "T8             0\n",
       "RH_8           0\n",
       "T9             0\n",
       "RH_9           0\n",
       "T_out          0\n",
       "Press_mm_hg    0\n",
       "RH_out         0\n",
       "Windspeed      0\n",
       "Visibility     0\n",
       "Tdewpoint      0\n",
       "rv1            0\n",
       "rv2            0\n",
       "dtype: int64"
      ]
     },
     "execution_count": 6,
     "metadata": {},
     "output_type": "execute_result"
    }
   ],
   "source": [
    "#check for missing values\n",
    "energy_data.isna().sum()"
   ]
  },
  {
   "cell_type": "markdown",
   "id": "6d69e3f8",
   "metadata": {
    "papermill": {
     "duration": 0.012966,
     "end_time": "2023-06-07T16:19:55.038107",
     "exception": false,
     "start_time": "2023-06-07T16:19:55.025141",
     "status": "completed"
    },
    "tags": []
   },
   "source": [
    "* There are no missing values in the dataset"
   ]
  },
  {
   "cell_type": "code",
   "execution_count": 7,
   "id": "92241d80",
   "metadata": {
    "execution": {
     "iopub.execute_input": "2023-06-07T16:19:55.066785Z",
     "iopub.status.busy": "2023-06-07T16:19:55.066373Z",
     "iopub.status.idle": "2023-06-07T16:19:55.110476Z",
     "shell.execute_reply": "2023-06-07T16:19:55.109706Z"
    },
    "papermill": {
     "duration": 0.061438,
     "end_time": "2023-06-07T16:19:55.112800",
     "exception": false,
     "start_time": "2023-06-07T16:19:55.051362",
     "status": "completed"
    },
    "tags": []
   },
   "outputs": [
    {
     "data": {
      "text/html": [
       "<div>\n",
       "<style scoped>\n",
       "    .dataframe tbody tr th:only-of-type {\n",
       "        vertical-align: middle;\n",
       "    }\n",
       "\n",
       "    .dataframe tbody tr th {\n",
       "        vertical-align: top;\n",
       "    }\n",
       "\n",
       "    .dataframe thead th {\n",
       "        text-align: right;\n",
       "    }\n",
       "</style>\n",
       "<table border=\"1\" class=\"dataframe\">\n",
       "  <thead>\n",
       "    <tr style=\"text-align: right;\">\n",
       "      <th></th>\n",
       "      <th>Appliances</th>\n",
       "      <th>T1</th>\n",
       "      <th>RH_1</th>\n",
       "      <th>T2</th>\n",
       "      <th>RH_2</th>\n",
       "      <th>T3</th>\n",
       "      <th>RH_3</th>\n",
       "      <th>T4</th>\n",
       "      <th>RH_4</th>\n",
       "      <th>T5</th>\n",
       "      <th>...</th>\n",
       "      <th>T9</th>\n",
       "      <th>RH_9</th>\n",
       "      <th>T_out</th>\n",
       "      <th>Press_mm_hg</th>\n",
       "      <th>RH_out</th>\n",
       "      <th>Windspeed</th>\n",
       "      <th>Visibility</th>\n",
       "      <th>Tdewpoint</th>\n",
       "      <th>rv1</th>\n",
       "      <th>rv2</th>\n",
       "    </tr>\n",
       "  </thead>\n",
       "  <tbody>\n",
       "    <tr>\n",
       "      <th>0</th>\n",
       "      <td>60</td>\n",
       "      <td>19.890000</td>\n",
       "      <td>47.596667</td>\n",
       "      <td>19.200000</td>\n",
       "      <td>44.790000</td>\n",
       "      <td>19.790000</td>\n",
       "      <td>44.730000</td>\n",
       "      <td>19.000000</td>\n",
       "      <td>45.566667</td>\n",
       "      <td>17.166667</td>\n",
       "      <td>...</td>\n",
       "      <td>17.033333</td>\n",
       "      <td>45.5300</td>\n",
       "      <td>6.600000</td>\n",
       "      <td>733.5</td>\n",
       "      <td>92.000000</td>\n",
       "      <td>7.000000</td>\n",
       "      <td>63.000000</td>\n",
       "      <td>5.300000</td>\n",
       "      <td>13.275433</td>\n",
       "      <td>13.275433</td>\n",
       "    </tr>\n",
       "    <tr>\n",
       "      <th>1</th>\n",
       "      <td>60</td>\n",
       "      <td>19.890000</td>\n",
       "      <td>46.693333</td>\n",
       "      <td>19.200000</td>\n",
       "      <td>44.722500</td>\n",
       "      <td>19.790000</td>\n",
       "      <td>44.790000</td>\n",
       "      <td>19.000000</td>\n",
       "      <td>45.992500</td>\n",
       "      <td>17.166667</td>\n",
       "      <td>...</td>\n",
       "      <td>17.066667</td>\n",
       "      <td>45.5600</td>\n",
       "      <td>6.483333</td>\n",
       "      <td>733.6</td>\n",
       "      <td>92.000000</td>\n",
       "      <td>6.666667</td>\n",
       "      <td>59.166667</td>\n",
       "      <td>5.200000</td>\n",
       "      <td>18.606195</td>\n",
       "      <td>18.606195</td>\n",
       "    </tr>\n",
       "    <tr>\n",
       "      <th>2</th>\n",
       "      <td>50</td>\n",
       "      <td>19.890000</td>\n",
       "      <td>46.300000</td>\n",
       "      <td>19.200000</td>\n",
       "      <td>44.626667</td>\n",
       "      <td>19.790000</td>\n",
       "      <td>44.933333</td>\n",
       "      <td>18.926667</td>\n",
       "      <td>45.890000</td>\n",
       "      <td>17.166667</td>\n",
       "      <td>...</td>\n",
       "      <td>17.000000</td>\n",
       "      <td>45.5000</td>\n",
       "      <td>6.366667</td>\n",
       "      <td>733.7</td>\n",
       "      <td>92.000000</td>\n",
       "      <td>6.333333</td>\n",
       "      <td>55.333333</td>\n",
       "      <td>5.100000</td>\n",
       "      <td>28.642668</td>\n",
       "      <td>28.642668</td>\n",
       "    </tr>\n",
       "    <tr>\n",
       "      <th>3</th>\n",
       "      <td>50</td>\n",
       "      <td>19.890000</td>\n",
       "      <td>46.066667</td>\n",
       "      <td>19.200000</td>\n",
       "      <td>44.590000</td>\n",
       "      <td>19.790000</td>\n",
       "      <td>45.000000</td>\n",
       "      <td>18.890000</td>\n",
       "      <td>45.723333</td>\n",
       "      <td>17.166667</td>\n",
       "      <td>...</td>\n",
       "      <td>17.000000</td>\n",
       "      <td>45.4000</td>\n",
       "      <td>6.250000</td>\n",
       "      <td>733.8</td>\n",
       "      <td>92.000000</td>\n",
       "      <td>6.000000</td>\n",
       "      <td>51.500000</td>\n",
       "      <td>5.000000</td>\n",
       "      <td>45.410389</td>\n",
       "      <td>45.410389</td>\n",
       "    </tr>\n",
       "    <tr>\n",
       "      <th>4</th>\n",
       "      <td>60</td>\n",
       "      <td>19.890000</td>\n",
       "      <td>46.333333</td>\n",
       "      <td>19.200000</td>\n",
       "      <td>44.530000</td>\n",
       "      <td>19.790000</td>\n",
       "      <td>45.000000</td>\n",
       "      <td>18.890000</td>\n",
       "      <td>45.530000</td>\n",
       "      <td>17.200000</td>\n",
       "      <td>...</td>\n",
       "      <td>17.000000</td>\n",
       "      <td>45.4000</td>\n",
       "      <td>6.133333</td>\n",
       "      <td>733.9</td>\n",
       "      <td>92.000000</td>\n",
       "      <td>5.666667</td>\n",
       "      <td>47.666667</td>\n",
       "      <td>4.900000</td>\n",
       "      <td>10.084097</td>\n",
       "      <td>10.084097</td>\n",
       "    </tr>\n",
       "    <tr>\n",
       "      <th>...</th>\n",
       "      <td>...</td>\n",
       "      <td>...</td>\n",
       "      <td>...</td>\n",
       "      <td>...</td>\n",
       "      <td>...</td>\n",
       "      <td>...</td>\n",
       "      <td>...</td>\n",
       "      <td>...</td>\n",
       "      <td>...</td>\n",
       "      <td>...</td>\n",
       "      <td>...</td>\n",
       "      <td>...</td>\n",
       "      <td>...</td>\n",
       "      <td>...</td>\n",
       "      <td>...</td>\n",
       "      <td>...</td>\n",
       "      <td>...</td>\n",
       "      <td>...</td>\n",
       "      <td>...</td>\n",
       "      <td>...</td>\n",
       "      <td>...</td>\n",
       "    </tr>\n",
       "    <tr>\n",
       "      <th>19730</th>\n",
       "      <td>100</td>\n",
       "      <td>25.566667</td>\n",
       "      <td>46.560000</td>\n",
       "      <td>25.890000</td>\n",
       "      <td>42.025714</td>\n",
       "      <td>27.200000</td>\n",
       "      <td>41.163333</td>\n",
       "      <td>24.700000</td>\n",
       "      <td>45.590000</td>\n",
       "      <td>23.200000</td>\n",
       "      <td>...</td>\n",
       "      <td>23.200000</td>\n",
       "      <td>46.7900</td>\n",
       "      <td>22.733333</td>\n",
       "      <td>755.2</td>\n",
       "      <td>55.666667</td>\n",
       "      <td>3.333333</td>\n",
       "      <td>23.666667</td>\n",
       "      <td>13.333333</td>\n",
       "      <td>43.096812</td>\n",
       "      <td>43.096812</td>\n",
       "    </tr>\n",
       "    <tr>\n",
       "      <th>19731</th>\n",
       "      <td>90</td>\n",
       "      <td>25.500000</td>\n",
       "      <td>46.500000</td>\n",
       "      <td>25.754000</td>\n",
       "      <td>42.080000</td>\n",
       "      <td>27.133333</td>\n",
       "      <td>41.223333</td>\n",
       "      <td>24.700000</td>\n",
       "      <td>45.590000</td>\n",
       "      <td>23.230000</td>\n",
       "      <td>...</td>\n",
       "      <td>23.200000</td>\n",
       "      <td>46.7900</td>\n",
       "      <td>22.600000</td>\n",
       "      <td>755.2</td>\n",
       "      <td>56.000000</td>\n",
       "      <td>3.500000</td>\n",
       "      <td>24.500000</td>\n",
       "      <td>13.300000</td>\n",
       "      <td>49.282940</td>\n",
       "      <td>49.282940</td>\n",
       "    </tr>\n",
       "    <tr>\n",
       "      <th>19732</th>\n",
       "      <td>270</td>\n",
       "      <td>25.500000</td>\n",
       "      <td>46.596667</td>\n",
       "      <td>25.628571</td>\n",
       "      <td>42.768571</td>\n",
       "      <td>27.050000</td>\n",
       "      <td>41.690000</td>\n",
       "      <td>24.700000</td>\n",
       "      <td>45.730000</td>\n",
       "      <td>23.230000</td>\n",
       "      <td>...</td>\n",
       "      <td>23.200000</td>\n",
       "      <td>46.7900</td>\n",
       "      <td>22.466667</td>\n",
       "      <td>755.2</td>\n",
       "      <td>56.333333</td>\n",
       "      <td>3.666667</td>\n",
       "      <td>25.333333</td>\n",
       "      <td>13.266667</td>\n",
       "      <td>29.199117</td>\n",
       "      <td>29.199117</td>\n",
       "    </tr>\n",
       "    <tr>\n",
       "      <th>19733</th>\n",
       "      <td>420</td>\n",
       "      <td>25.500000</td>\n",
       "      <td>46.990000</td>\n",
       "      <td>25.414000</td>\n",
       "      <td>43.036000</td>\n",
       "      <td>26.890000</td>\n",
       "      <td>41.290000</td>\n",
       "      <td>24.700000</td>\n",
       "      <td>45.790000</td>\n",
       "      <td>23.200000</td>\n",
       "      <td>...</td>\n",
       "      <td>23.200000</td>\n",
       "      <td>46.8175</td>\n",
       "      <td>22.333333</td>\n",
       "      <td>755.2</td>\n",
       "      <td>56.666667</td>\n",
       "      <td>3.833333</td>\n",
       "      <td>26.166667</td>\n",
       "      <td>13.233333</td>\n",
       "      <td>6.322784</td>\n",
       "      <td>6.322784</td>\n",
       "    </tr>\n",
       "    <tr>\n",
       "      <th>19734</th>\n",
       "      <td>430</td>\n",
       "      <td>25.500000</td>\n",
       "      <td>46.600000</td>\n",
       "      <td>25.264286</td>\n",
       "      <td>42.971429</td>\n",
       "      <td>26.823333</td>\n",
       "      <td>41.156667</td>\n",
       "      <td>24.700000</td>\n",
       "      <td>45.963333</td>\n",
       "      <td>23.200000</td>\n",
       "      <td>...</td>\n",
       "      <td>23.200000</td>\n",
       "      <td>46.8450</td>\n",
       "      <td>22.200000</td>\n",
       "      <td>755.2</td>\n",
       "      <td>57.000000</td>\n",
       "      <td>4.000000</td>\n",
       "      <td>27.000000</td>\n",
       "      <td>13.200000</td>\n",
       "      <td>34.118851</td>\n",
       "      <td>34.118851</td>\n",
       "    </tr>\n",
       "  </tbody>\n",
       "</table>\n",
       "<p>19735 rows × 27 columns</p>\n",
       "</div>"
      ],
      "text/plain": [
       "       Appliances         T1       RH_1         T2       RH_2         T3  \\\n",
       "0              60  19.890000  47.596667  19.200000  44.790000  19.790000   \n",
       "1              60  19.890000  46.693333  19.200000  44.722500  19.790000   \n",
       "2              50  19.890000  46.300000  19.200000  44.626667  19.790000   \n",
       "3              50  19.890000  46.066667  19.200000  44.590000  19.790000   \n",
       "4              60  19.890000  46.333333  19.200000  44.530000  19.790000   \n",
       "...           ...        ...        ...        ...        ...        ...   \n",
       "19730         100  25.566667  46.560000  25.890000  42.025714  27.200000   \n",
       "19731          90  25.500000  46.500000  25.754000  42.080000  27.133333   \n",
       "19732         270  25.500000  46.596667  25.628571  42.768571  27.050000   \n",
       "19733         420  25.500000  46.990000  25.414000  43.036000  26.890000   \n",
       "19734         430  25.500000  46.600000  25.264286  42.971429  26.823333   \n",
       "\n",
       "            RH_3         T4       RH_4         T5  ...         T9     RH_9  \\\n",
       "0      44.730000  19.000000  45.566667  17.166667  ...  17.033333  45.5300   \n",
       "1      44.790000  19.000000  45.992500  17.166667  ...  17.066667  45.5600   \n",
       "2      44.933333  18.926667  45.890000  17.166667  ...  17.000000  45.5000   \n",
       "3      45.000000  18.890000  45.723333  17.166667  ...  17.000000  45.4000   \n",
       "4      45.000000  18.890000  45.530000  17.200000  ...  17.000000  45.4000   \n",
       "...          ...        ...        ...        ...  ...        ...      ...   \n",
       "19730  41.163333  24.700000  45.590000  23.200000  ...  23.200000  46.7900   \n",
       "19731  41.223333  24.700000  45.590000  23.230000  ...  23.200000  46.7900   \n",
       "19732  41.690000  24.700000  45.730000  23.230000  ...  23.200000  46.7900   \n",
       "19733  41.290000  24.700000  45.790000  23.200000  ...  23.200000  46.8175   \n",
       "19734  41.156667  24.700000  45.963333  23.200000  ...  23.200000  46.8450   \n",
       "\n",
       "           T_out  Press_mm_hg     RH_out  Windspeed  Visibility  Tdewpoint  \\\n",
       "0       6.600000        733.5  92.000000   7.000000   63.000000   5.300000   \n",
       "1       6.483333        733.6  92.000000   6.666667   59.166667   5.200000   \n",
       "2       6.366667        733.7  92.000000   6.333333   55.333333   5.100000   \n",
       "3       6.250000        733.8  92.000000   6.000000   51.500000   5.000000   \n",
       "4       6.133333        733.9  92.000000   5.666667   47.666667   4.900000   \n",
       "...          ...          ...        ...        ...         ...        ...   \n",
       "19730  22.733333        755.2  55.666667   3.333333   23.666667  13.333333   \n",
       "19731  22.600000        755.2  56.000000   3.500000   24.500000  13.300000   \n",
       "19732  22.466667        755.2  56.333333   3.666667   25.333333  13.266667   \n",
       "19733  22.333333        755.2  56.666667   3.833333   26.166667  13.233333   \n",
       "19734  22.200000        755.2  57.000000   4.000000   27.000000  13.200000   \n",
       "\n",
       "             rv1        rv2  \n",
       "0      13.275433  13.275433  \n",
       "1      18.606195  18.606195  \n",
       "2      28.642668  28.642668  \n",
       "3      45.410389  45.410389  \n",
       "4      10.084097  10.084097  \n",
       "...          ...        ...  \n",
       "19730  43.096812  43.096812  \n",
       "19731  49.282940  49.282940  \n",
       "19732  29.199117  29.199117  \n",
       "19733   6.322784   6.322784  \n",
       "19734  34.118851  34.118851  \n",
       "\n",
       "[19735 rows x 27 columns]"
      ]
     },
     "execution_count": 7,
     "metadata": {},
     "output_type": "execute_result"
    }
   ],
   "source": [
    "#An instruction in the quiz is to drop date and lights columns from the dataset\n",
    "energy_data= energy_data.drop(['date', 'lights'], axis = 1)\n",
    "\n",
    "#check\n",
    "energy_data"
   ]
  },
  {
   "cell_type": "code",
   "execution_count": 8,
   "id": "8d95b4a1",
   "metadata": {
    "execution": {
     "iopub.execute_input": "2023-06-07T16:19:55.142186Z",
     "iopub.status.busy": "2023-06-07T16:19:55.141536Z",
     "iopub.status.idle": "2023-06-07T16:19:55.289571Z",
     "shell.execute_reply": "2023-06-07T16:19:55.288471Z"
    },
    "papermill": {
     "duration": 0.166032,
     "end_time": "2023-06-07T16:19:55.292541",
     "exception": false,
     "start_time": "2023-06-07T16:19:55.126509",
     "status": "completed"
    },
    "tags": []
   },
   "outputs": [],
   "source": [
    "#Normalize\n",
    "from sklearn.preprocessing import MinMaxScaler\n",
    "scaler = MinMaxScaler()"
   ]
  },
  {
   "cell_type": "code",
   "execution_count": 9,
   "id": "78ce49e2",
   "metadata": {
    "execution": {
     "iopub.execute_input": "2023-06-07T16:19:55.322907Z",
     "iopub.status.busy": "2023-06-07T16:19:55.322511Z",
     "iopub.status.idle": "2023-06-07T16:19:55.337944Z",
     "shell.execute_reply": "2023-06-07T16:19:55.336987Z"
    },
    "papermill": {
     "duration": 0.033997,
     "end_time": "2023-06-07T16:19:55.340352",
     "exception": false,
     "start_time": "2023-06-07T16:19:55.306355",
     "status": "completed"
    },
    "tags": []
   },
   "outputs": [],
   "source": [
    "energy_norm = pd.DataFrame(scaler.fit_transform(energy_data), columns = energy_data.columns)"
   ]
  },
  {
   "cell_type": "code",
   "execution_count": 10,
   "id": "e5dc9aed",
   "metadata": {
    "execution": {
     "iopub.execute_input": "2023-06-07T16:19:55.369551Z",
     "iopub.status.busy": "2023-06-07T16:19:55.369164Z",
     "iopub.status.idle": "2023-06-07T16:19:55.377446Z",
     "shell.execute_reply": "2023-06-07T16:19:55.376300Z"
    },
    "papermill": {
     "duration": 0.025312,
     "end_time": "2023-06-07T16:19:55.379589",
     "exception": false,
     "start_time": "2023-06-07T16:19:55.354277",
     "status": "completed"
    },
    "tags": []
   },
   "outputs": [],
   "source": [
    "X = energy_norm.drop('Appliances', axis = 1)\n",
    "y = energy_norm['Appliances']"
   ]
  },
  {
   "cell_type": "code",
   "execution_count": 11,
   "id": "77980447",
   "metadata": {
    "execution": {
     "iopub.execute_input": "2023-06-07T16:19:55.409518Z",
     "iopub.status.busy": "2023-06-07T16:19:55.408469Z",
     "iopub.status.idle": "2023-06-07T16:19:55.508491Z",
     "shell.execute_reply": "2023-06-07T16:19:55.507527Z"
    },
    "papermill": {
     "duration": 0.117656,
     "end_time": "2023-06-07T16:19:55.511160",
     "exception": false,
     "start_time": "2023-06-07T16:19:55.393504",
     "status": "completed"
    },
    "tags": []
   },
   "outputs": [],
   "source": [
    "from sklearn.model_selection import train_test_split"
   ]
  },
  {
   "cell_type": "markdown",
   "id": "b0739e0d",
   "metadata": {
    "papermill": {
     "duration": 0.013369,
     "end_time": "2023-06-07T16:19:55.538228",
     "exception": false,
     "start_time": "2023-06-07T16:19:55.524859",
     "status": "completed"
    },
    "tags": []
   },
   "source": []
  },
  {
   "cell_type": "markdown",
   "id": "9fba5526",
   "metadata": {
    "papermill": {
     "duration": 0.013402,
     "end_time": "2023-06-07T16:19:55.565430",
     "exception": false,
     "start_time": "2023-06-07T16:19:55.552028",
     "status": "completed"
    },
    "tags": []
   },
   "source": []
  },
  {
   "cell_type": "code",
   "execution_count": 12,
   "id": "97f2df03",
   "metadata": {
    "execution": {
     "iopub.execute_input": "2023-06-07T16:19:55.594815Z",
     "iopub.status.busy": "2023-06-07T16:19:55.594419Z",
     "iopub.status.idle": "2023-06-07T16:19:55.609859Z",
     "shell.execute_reply": "2023-06-07T16:19:55.608851Z"
    },
    "papermill": {
     "duration": 0.033506,
     "end_time": "2023-06-07T16:19:55.612653",
     "exception": false,
     "start_time": "2023-06-07T16:19:55.579147",
     "status": "completed"
    },
    "tags": []
   },
   "outputs": [],
   "source": [
    "X_train, X_test, y_train, y_test = train_test_split(X, y, test_size = 0.3, random_state =42)"
   ]
  },
  {
   "cell_type": "markdown",
   "id": "aafbdc24",
   "metadata": {
    "papermill": {
     "duration": 0.013346,
     "end_time": "2023-06-07T16:19:55.639905",
     "exception": false,
     "start_time": "2023-06-07T16:19:55.626559",
     "status": "completed"
    },
    "tags": []
   },
   "source": [
    "**Now to the questions**"
   ]
  },
  {
   "cell_type": "markdown",
   "id": "596b8ebb",
   "metadata": {
    "papermill": {
     "duration": 0.013374,
     "end_time": "2023-06-07T16:19:55.667034",
     "exception": false,
     "start_time": "2023-06-07T16:19:55.653660",
     "status": "completed"
    },
    "tags": []
   },
   "source": [
    "---\n",
    "\n",
    "**Question 12**\n",
    "\n",
    "From the dataset, fit a linear model on the relationship between the temperature in the living room in Celsius (x = T2) and the temperature outside the building (y = T6). What is the R^2 value in two d.p.?\n",
    "\n",
    "---"
   ]
  },
  {
   "cell_type": "code",
   "execution_count": 13,
   "id": "36ee81c1",
   "metadata": {
    "execution": {
     "iopub.execute_input": "2023-06-07T16:19:55.697063Z",
     "iopub.status.busy": "2023-06-07T16:19:55.696612Z",
     "iopub.status.idle": "2023-06-07T16:19:55.795210Z",
     "shell.execute_reply": "2023-06-07T16:19:55.794079Z"
    },
    "papermill": {
     "duration": 0.117065,
     "end_time": "2023-06-07T16:19:55.798558",
     "exception": false,
     "start_time": "2023-06-07T16:19:55.681493",
     "status": "completed"
    },
    "tags": []
   },
   "outputs": [],
   "source": [
    "from sklearn.linear_model import LinearRegression"
   ]
  },
  {
   "cell_type": "code",
   "execution_count": 14,
   "id": "d1604280",
   "metadata": {
    "execution": {
     "iopub.execute_input": "2023-06-07T16:19:55.828760Z",
     "iopub.status.busy": "2023-06-07T16:19:55.828001Z",
     "iopub.status.idle": "2023-06-07T16:19:55.837494Z",
     "shell.execute_reply": "2023-06-07T16:19:55.836682Z"
    },
    "papermill": {
     "duration": 0.026878,
     "end_time": "2023-06-07T16:19:55.839689",
     "exception": false,
     "start_time": "2023-06-07T16:19:55.812811",
     "status": "completed"
    },
    "tags": []
   },
   "outputs": [],
   "source": [
    "room_temp = np.array(energy_norm['T2'])\n",
    "temp_o = np.array(energy_norm['T6'])\n",
    "room_temp = room_temp.reshape(-1, 1)\n",
    "room_temp_train, room_temp_test, temp_o_train, temp_o_test = train_test_split(room_temp, temp_o, test_size = 0.3, random_state =42)"
   ]
  },
  {
   "cell_type": "code",
   "execution_count": 15,
   "id": "e31fe8bd",
   "metadata": {
    "execution": {
     "iopub.execute_input": "2023-06-07T16:19:55.869922Z",
     "iopub.status.busy": "2023-06-07T16:19:55.868778Z",
     "iopub.status.idle": "2023-06-07T16:19:55.889946Z",
     "shell.execute_reply": "2023-06-07T16:19:55.889153Z"
    },
    "papermill": {
     "duration": 0.038411,
     "end_time": "2023-06-07T16:19:55.892287",
     "exception": false,
     "start_time": "2023-06-07T16:19:55.853876",
     "status": "completed"
    },
    "tags": []
   },
   "outputs": [],
   "source": [
    "model = LinearRegression()\n",
    "model.fit(room_temp_train, temp_o_train)\n",
    "temp_o_pred = model.predict(room_temp_test)"
   ]
  },
  {
   "cell_type": "code",
   "execution_count": 16,
   "id": "eaf41ab1",
   "metadata": {
    "execution": {
     "iopub.execute_input": "2023-06-07T16:19:55.921842Z",
     "iopub.status.busy": "2023-06-07T16:19:55.920803Z",
     "iopub.status.idle": "2023-06-07T16:19:55.928040Z",
     "shell.execute_reply": "2023-06-07T16:19:55.926842Z"
    },
    "papermill": {
     "duration": 0.024204,
     "end_time": "2023-06-07T16:19:55.930208",
     "exception": false,
     "start_time": "2023-06-07T16:19:55.906004",
     "status": "completed"
    },
    "tags": []
   },
   "outputs": [
    {
     "name": "stdout",
     "output_type": "stream",
     "text": [
      "The R^2 score is 0.64\n"
     ]
    }
   ],
   "source": [
    "from sklearn.metrics import r2_score\n",
    "r2 = r2_score(temp_o_test, temp_o_pred)\n",
    "print('The R^2 score is {}'.format(round(r2,2)))"
   ]
  },
  {
   "cell_type": "markdown",
   "id": "6faf46d0",
   "metadata": {
    "papermill": {
     "duration": 0.01338,
     "end_time": "2023-06-07T16:19:55.957418",
     "exception": false,
     "start_time": "2023-06-07T16:19:55.944038",
     "status": "completed"
    },
    "tags": []
   },
   "source": [
    "---\n",
    "**Question 13**\n",
    "\n",
    "Normalize the dataset using the MinMaxScaler after removing the following columns: [“date”, “lights”]. The target variable is “Appliances”. Use a 70-30 train-test set split with a random state of 42 (for reproducibility). Run a multiple linear regression using the training set and evaluate your model on the test set. Answer the following questions:\n",
    "What is the Mean Absolute Error (in two decimal places)?\n",
    "\n",
    "---"
   ]
  },
  {
   "cell_type": "code",
   "execution_count": 17,
   "id": "2c9cca45",
   "metadata": {
    "execution": {
     "iopub.execute_input": "2023-06-07T16:19:55.986994Z",
     "iopub.status.busy": "2023-06-07T16:19:55.986023Z",
     "iopub.status.idle": "2023-06-07T16:19:56.025817Z",
     "shell.execute_reply": "2023-06-07T16:19:56.024316Z"
    },
    "papermill": {
     "duration": 0.06001,
     "end_time": "2023-06-07T16:19:56.031161",
     "exception": false,
     "start_time": "2023-06-07T16:19:55.971151",
     "status": "completed"
    },
    "tags": []
   },
   "outputs": [],
   "source": [
    "reg = LinearRegression()\n",
    "reg.fit(X_train, y_train)\n",
    "y_pred = reg.predict(X_test)"
   ]
  },
  {
   "cell_type": "code",
   "execution_count": 18,
   "id": "cd5d50ae",
   "metadata": {
    "execution": {
     "iopub.execute_input": "2023-06-07T16:19:56.133728Z",
     "iopub.status.busy": "2023-06-07T16:19:56.133061Z",
     "iopub.status.idle": "2023-06-07T16:19:56.142770Z",
     "shell.execute_reply": "2023-06-07T16:19:56.141740Z"
    },
    "papermill": {
     "duration": 0.055687,
     "end_time": "2023-06-07T16:19:56.145425",
     "exception": false,
     "start_time": "2023-06-07T16:19:56.089738",
     "status": "completed"
    },
    "tags": []
   },
   "outputs": [
    {
     "name": "stdout",
     "output_type": "stream",
     "text": [
      "The Mean Absolute Error is 0.05\n"
     ]
    }
   ],
   "source": [
    "from sklearn.metrics import mean_absolute_error\n",
    "mae = mean_absolute_error(y_test, y_pred)\n",
    "print('The Mean Absolute Error is {}'.format(round(mae, 2)))"
   ]
  },
  {
   "cell_type": "markdown",
   "id": "972842c3",
   "metadata": {
    "papermill": {
     "duration": 0.013651,
     "end_time": "2023-06-07T16:19:56.172892",
     "exception": false,
     "start_time": "2023-06-07T16:19:56.159241",
     "status": "completed"
    },
    "tags": []
   },
   "source": [
    "---\n",
    "**Question 14**\n",
    "\n",
    "What is the Residual Sum of Squares (in two decimal places)?\n",
    " \n",
    "---"
   ]
  },
  {
   "cell_type": "code",
   "execution_count": 19,
   "id": "79b1c5f1",
   "metadata": {
    "execution": {
     "iopub.execute_input": "2023-06-07T16:19:56.202858Z",
     "iopub.status.busy": "2023-06-07T16:19:56.202424Z",
     "iopub.status.idle": "2023-06-07T16:19:56.209076Z",
     "shell.execute_reply": "2023-06-07T16:19:56.208082Z"
    },
    "papermill": {
     "duration": 0.024107,
     "end_time": "2023-06-07T16:19:56.211353",
     "exception": false,
     "start_time": "2023-06-07T16:19:56.187246",
     "status": "completed"
    },
    "tags": []
   },
   "outputs": [
    {
     "name": "stdout",
     "output_type": "stream",
     "text": [
      "The Residual Sum of Squares is 45.35\n"
     ]
    }
   ],
   "source": [
    "rss = np.sum(np.square(y_test - y_pred))\n",
    "print('The Residual Sum of Squares is {}'.format(round(rss,2)))"
   ]
  },
  {
   "cell_type": "markdown",
   "id": "3753b151",
   "metadata": {
    "papermill": {
     "duration": 0.013215,
     "end_time": "2023-06-07T16:19:56.238226",
     "exception": false,
     "start_time": "2023-06-07T16:19:56.225011",
     "status": "completed"
    },
    "tags": []
   },
   "source": [
    "---\n",
    "**Question 15**\n",
    "\n",
    "What is the Root Mean Squared Error (in three decimal places)?\n",
    "\n",
    "---"
   ]
  },
  {
   "cell_type": "code",
   "execution_count": 20,
   "id": "94dd1db4",
   "metadata": {
    "execution": {
     "iopub.execute_input": "2023-06-07T16:19:56.267327Z",
     "iopub.status.busy": "2023-06-07T16:19:56.266402Z",
     "iopub.status.idle": "2023-06-07T16:19:56.273704Z",
     "shell.execute_reply": "2023-06-07T16:19:56.272469Z"
    },
    "papermill": {
     "duration": 0.024053,
     "end_time": "2023-06-07T16:19:56.275890",
     "exception": false,
     "start_time": "2023-06-07T16:19:56.251837",
     "status": "completed"
    },
    "tags": []
   },
   "outputs": [
    {
     "name": "stdout",
     "output_type": "stream",
     "text": [
      "The Root Mean Squared Error is 0.088\n"
     ]
    }
   ],
   "source": [
    "from sklearn.metrics import mean_squared_error\n",
    "mse = mean_squared_error(y_test, y_pred)\n",
    "\n",
    "rmse = np.sqrt(mse)\n",
    "print('The Root Mean Squared Error is {}'.format(round(rmse, 3)))"
   ]
  },
  {
   "cell_type": "markdown",
   "id": "4fe50e7a",
   "metadata": {
    "papermill": {
     "duration": 0.013118,
     "end_time": "2023-06-07T16:19:56.303025",
     "exception": false,
     "start_time": "2023-06-07T16:19:56.289907",
     "status": "completed"
    },
    "tags": []
   },
   "source": [
    "---\n",
    "\n",
    "**Question 16**\n",
    "\n",
    "What is the Coefficient of Determination (in two decimal places)?\n",
    "\n",
    "---"
   ]
  },
  {
   "cell_type": "code",
   "execution_count": 21,
   "id": "2a6214ef",
   "metadata": {
    "execution": {
     "iopub.execute_input": "2023-06-07T16:19:56.331452Z",
     "iopub.status.busy": "2023-06-07T16:19:56.331073Z",
     "iopub.status.idle": "2023-06-07T16:19:56.338107Z",
     "shell.execute_reply": "2023-06-07T16:19:56.336896Z"
    },
    "papermill": {
     "duration": 0.024133,
     "end_time": "2023-06-07T16:19:56.340382",
     "exception": false,
     "start_time": "2023-06-07T16:19:56.316249",
     "status": "completed"
    },
    "tags": []
   },
   "outputs": [
    {
     "name": "stdout",
     "output_type": "stream",
     "text": [
      "The coefficient of determination is 0.15\n"
     ]
    }
   ],
   "source": [
    "r2 = r2_score(y_test, y_pred)\n",
    "print('The coefficient of determination is {}'.format(round(r2,2)))"
   ]
  },
  {
   "cell_type": "markdown",
   "id": "5ce885ea",
   "metadata": {
    "papermill": {
     "duration": 0.013507,
     "end_time": "2023-06-07T16:19:56.368139",
     "exception": false,
     "start_time": "2023-06-07T16:19:56.354632",
     "status": "completed"
    },
    "tags": []
   },
   "source": [
    "---\n",
    "\n",
    "**Question 17**\n",
    "\n",
    "Obtain the feature weights from your linear model above. Which features have the lowest and highest weights respectively?\n",
    "\n",
    "---\n"
   ]
  },
  {
   "cell_type": "markdown",
   "id": "7d2304c3",
   "metadata": {
    "papermill": {
     "duration": 0.013326,
     "end_time": "2023-06-07T16:19:56.395230",
     "exception": false,
     "start_time": "2023-06-07T16:19:56.381904",
     "status": "completed"
    },
    "tags": []
   },
   "source": [
    "---\n",
    "**Question 18**\n",
    "\n",
    "Train a ridge regression model with an alpha value of 0.4. Is there any change to the root mean squared error (RMSE) when evaluated on the test set?\n",
    "\n",
    "---"
   ]
  },
  {
   "cell_type": "code",
   "execution_count": 22,
   "id": "84e7a994",
   "metadata": {
    "execution": {
     "iopub.execute_input": "2023-06-07T16:19:56.424675Z",
     "iopub.status.busy": "2023-06-07T16:19:56.423584Z",
     "iopub.status.idle": "2023-06-07T16:19:56.452795Z",
     "shell.execute_reply": "2023-06-07T16:19:56.451287Z"
    },
    "papermill": {
     "duration": 0.047723,
     "end_time": "2023-06-07T16:19:56.456681",
     "exception": false,
     "start_time": "2023-06-07T16:19:56.408958",
     "status": "completed"
    },
    "tags": []
   },
   "outputs": [
    {
     "data": {
      "text/plain": [
       "array([0.03321872, 0.24043824, 0.03461337, ..., 0.06872351, 0.10025536,\n",
       "       0.05851175])"
      ]
     },
     "execution_count": 22,
     "metadata": {},
     "output_type": "execute_result"
    }
   ],
   "source": [
    "from sklearn.linear_model import Ridge\n",
    "ridge_reg = Ridge(alpha=0.4)\n",
    "ridge= ridge_reg.fit(X_train, y_train)\n",
    "\n",
    "\n",
    "y_pred_ridge = ridge.predict(X_test)\n",
    "y_pred_ridge"
   ]
  },
  {
   "cell_type": "markdown",
   "id": "4fb78a4f",
   "metadata": {
    "papermill": {
     "duration": 0.02905,
     "end_time": "2023-06-07T16:19:56.515567",
     "exception": false,
     "start_time": "2023-06-07T16:19:56.486517",
     "status": "completed"
    },
    "tags": []
   },
   "source": [
    "* Yes, there is a change"
   ]
  },
  {
   "cell_type": "markdown",
   "id": "ad91cb26",
   "metadata": {
    "papermill": {
     "duration": 0.025103,
     "end_time": "2023-06-07T16:19:56.570099",
     "exception": false,
     "start_time": "2023-06-07T16:19:56.544996",
     "status": "completed"
    },
    "tags": []
   },
   "source": [
    "---\n",
    "\n",
    "**Question 19**\n",
    "\n",
    "Train a lasso regression model with an alpha value of 0.001 and obtain the new feature weights with it. How many of the features have non-zero feature weights?\n",
    "\n",
    "---\n"
   ]
  },
  {
   "cell_type": "code",
   "execution_count": 23,
   "id": "f08be0a7",
   "metadata": {
    "execution": {
     "iopub.execute_input": "2023-06-07T16:19:56.599539Z",
     "iopub.status.busy": "2023-06-07T16:19:56.599158Z",
     "iopub.status.idle": "2023-06-07T16:19:56.636060Z",
     "shell.execute_reply": "2023-06-07T16:19:56.634725Z"
    },
    "papermill": {
     "duration": 0.055601,
     "end_time": "2023-06-07T16:19:56.639610",
     "exception": false,
     "start_time": "2023-06-07T16:19:56.584009",
     "status": "completed"
    },
    "tags": []
   },
   "outputs": [
    {
     "data": {
      "text/plain": [
       "array([0.07370267, 0.08143458, 0.07716072, ..., 0.07792848, 0.09034412,\n",
       "       0.08359255])"
      ]
     },
     "execution_count": 23,
     "metadata": {},
     "output_type": "execute_result"
    }
   ],
   "source": [
    "from sklearn.linear_model import Lasso\n",
    "lasso_reg = Lasso(alpha=0.001)\n",
    "lasso_reg.fit(X_train, y_train)\n",
    "\n",
    "y_pred_las = lasso_reg.predict(X_test)\n",
    "y_pred_las"
   ]
  },
  {
   "cell_type": "code",
   "execution_count": 24,
   "id": "0296f892",
   "metadata": {
    "execution": {
     "iopub.execute_input": "2023-06-07T16:19:56.739833Z",
     "iopub.status.busy": "2023-06-07T16:19:56.739166Z",
     "iopub.status.idle": "2023-06-07T16:19:56.757558Z",
     "shell.execute_reply": "2023-06-07T16:19:56.756732Z"
    },
    "papermill": {
     "duration": 0.071349,
     "end_time": "2023-06-07T16:19:56.759960",
     "exception": false,
     "start_time": "2023-06-07T16:19:56.688611",
     "status": "completed"
    },
    "tags": []
   },
   "outputs": [
    {
     "data": {
      "text/html": [
       "<div>\n",
       "<style scoped>\n",
       "    .dataframe tbody tr th:only-of-type {\n",
       "        vertical-align: middle;\n",
       "    }\n",
       "\n",
       "    .dataframe tbody tr th {\n",
       "        vertical-align: top;\n",
       "    }\n",
       "\n",
       "    .dataframe thead th {\n",
       "        text-align: right;\n",
       "    }\n",
       "</style>\n",
       "<table border=\"1\" class=\"dataframe\">\n",
       "  <thead>\n",
       "    <tr style=\"text-align: right;\">\n",
       "      <th></th>\n",
       "      <th>X</th>\n",
       "      <th>Lasso_Model_Weight</th>\n",
       "    </tr>\n",
       "  </thead>\n",
       "  <tbody>\n",
       "    <tr>\n",
       "      <th>0</th>\n",
       "      <td>RH_out</td>\n",
       "      <td>-0.049557</td>\n",
       "    </tr>\n",
       "    <tr>\n",
       "      <th>1</th>\n",
       "      <td>RH_8</td>\n",
       "      <td>-0.000110</td>\n",
       "    </tr>\n",
       "    <tr>\n",
       "      <th>2</th>\n",
       "      <td>T1</td>\n",
       "      <td>0.000000</td>\n",
       "    </tr>\n",
       "    <tr>\n",
       "      <th>3</th>\n",
       "      <td>Tdewpoint</td>\n",
       "      <td>0.000000</td>\n",
       "    </tr>\n",
       "    <tr>\n",
       "      <th>4</th>\n",
       "      <td>Visibility</td>\n",
       "      <td>0.000000</td>\n",
       "    </tr>\n",
       "    <tr>\n",
       "      <th>5</th>\n",
       "      <td>Press_mm_hg</td>\n",
       "      <td>-0.000000</td>\n",
       "    </tr>\n",
       "    <tr>\n",
       "      <th>6</th>\n",
       "      <td>T_out</td>\n",
       "      <td>0.000000</td>\n",
       "    </tr>\n",
       "    <tr>\n",
       "      <th>7</th>\n",
       "      <td>RH_9</td>\n",
       "      <td>-0.000000</td>\n",
       "    </tr>\n",
       "    <tr>\n",
       "      <th>8</th>\n",
       "      <td>T9</td>\n",
       "      <td>-0.000000</td>\n",
       "    </tr>\n",
       "    <tr>\n",
       "      <th>9</th>\n",
       "      <td>T8</td>\n",
       "      <td>0.000000</td>\n",
       "    </tr>\n",
       "    <tr>\n",
       "      <th>10</th>\n",
       "      <td>RH_7</td>\n",
       "      <td>-0.000000</td>\n",
       "    </tr>\n",
       "    <tr>\n",
       "      <th>11</th>\n",
       "      <td>rv1</td>\n",
       "      <td>-0.000000</td>\n",
       "    </tr>\n",
       "    <tr>\n",
       "      <th>12</th>\n",
       "      <td>T7</td>\n",
       "      <td>-0.000000</td>\n",
       "    </tr>\n",
       "    <tr>\n",
       "      <th>13</th>\n",
       "      <td>T6</td>\n",
       "      <td>0.000000</td>\n",
       "    </tr>\n",
       "    <tr>\n",
       "      <th>14</th>\n",
       "      <td>RH_5</td>\n",
       "      <td>0.000000</td>\n",
       "    </tr>\n",
       "    <tr>\n",
       "      <th>15</th>\n",
       "      <td>T5</td>\n",
       "      <td>-0.000000</td>\n",
       "    </tr>\n",
       "    <tr>\n",
       "      <th>16</th>\n",
       "      <td>RH_4</td>\n",
       "      <td>0.000000</td>\n",
       "    </tr>\n",
       "    <tr>\n",
       "      <th>17</th>\n",
       "      <td>T4</td>\n",
       "      <td>-0.000000</td>\n",
       "    </tr>\n",
       "    <tr>\n",
       "      <th>18</th>\n",
       "      <td>RH_3</td>\n",
       "      <td>0.000000</td>\n",
       "    </tr>\n",
       "    <tr>\n",
       "      <th>19</th>\n",
       "      <td>T3</td>\n",
       "      <td>0.000000</td>\n",
       "    </tr>\n",
       "    <tr>\n",
       "      <th>20</th>\n",
       "      <td>RH_2</td>\n",
       "      <td>-0.000000</td>\n",
       "    </tr>\n",
       "    <tr>\n",
       "      <th>21</th>\n",
       "      <td>T2</td>\n",
       "      <td>0.000000</td>\n",
       "    </tr>\n",
       "    <tr>\n",
       "      <th>22</th>\n",
       "      <td>RH_6</td>\n",
       "      <td>-0.000000</td>\n",
       "    </tr>\n",
       "    <tr>\n",
       "      <th>23</th>\n",
       "      <td>rv2</td>\n",
       "      <td>-0.000000</td>\n",
       "    </tr>\n",
       "    <tr>\n",
       "      <th>24</th>\n",
       "      <td>Windspeed</td>\n",
       "      <td>0.002912</td>\n",
       "    </tr>\n",
       "    <tr>\n",
       "      <th>25</th>\n",
       "      <td>RH_1</td>\n",
       "      <td>0.017880</td>\n",
       "    </tr>\n",
       "  </tbody>\n",
       "</table>\n",
       "</div>"
      ],
      "text/plain": [
       "              X  Lasso_Model_Weight\n",
       "0        RH_out           -0.049557\n",
       "1          RH_8           -0.000110\n",
       "2            T1            0.000000\n",
       "3     Tdewpoint            0.000000\n",
       "4    Visibility            0.000000\n",
       "5   Press_mm_hg           -0.000000\n",
       "6         T_out            0.000000\n",
       "7          RH_9           -0.000000\n",
       "8            T9           -0.000000\n",
       "9            T8            0.000000\n",
       "10         RH_7           -0.000000\n",
       "11          rv1           -0.000000\n",
       "12           T7           -0.000000\n",
       "13           T6            0.000000\n",
       "14         RH_5            0.000000\n",
       "15           T5           -0.000000\n",
       "16         RH_4            0.000000\n",
       "17           T4           -0.000000\n",
       "18         RH_3            0.000000\n",
       "19           T3            0.000000\n",
       "20         RH_2           -0.000000\n",
       "21           T2            0.000000\n",
       "22         RH_6           -0.000000\n",
       "23          rv2           -0.000000\n",
       "24    Windspeed            0.002912\n",
       "25         RH_1            0.017880"
      ]
     },
     "execution_count": 24,
     "metadata": {},
     "output_type": "execute_result"
    }
   ],
   "source": [
    "def get_model_weights(lasso_reg, feat, colname):\n",
    "    '''\n",
    "    get_model_weights function: this function gets the weight of each feature assigned by lasso regression model\n",
    "    lasso_reg: the model\n",
    "    feat: the training set (feature data)\n",
    "    colname: the title of the column with the weights\n",
    "    '''\n",
    "    model_weights = pd.Series(lasso_reg.coef_, X.columns).sort_values()\n",
    "    model_weights_df = pd.DataFrame(model_weights).reset_index()\n",
    "    model_weights_df.columns = ['X', colname]\n",
    "    model_weights_df[colname].round(2)\n",
    "    return model_weights_df\n",
    "lasso_model_weights = get_model_weights(lasso_reg, X_train, 'Lasso_Model_Weight')\n",
    "new_features_weight = lasso_model_weights\n",
    "new_features_weight"
   ]
  },
  {
   "cell_type": "code",
   "execution_count": 25,
   "id": "268e1560",
   "metadata": {
    "execution": {
     "iopub.execute_input": "2023-06-07T16:19:56.791010Z",
     "iopub.status.busy": "2023-06-07T16:19:56.790587Z",
     "iopub.status.idle": "2023-06-07T16:19:56.800858Z",
     "shell.execute_reply": "2023-06-07T16:19:56.799941Z"
    },
    "papermill": {
     "duration": 0.028085,
     "end_time": "2023-06-07T16:19:56.802936",
     "exception": false,
     "start_time": "2023-06-07T16:19:56.774851",
     "status": "completed"
    },
    "tags": []
   },
   "outputs": [
    {
     "data": {
      "text/html": [
       "<div>\n",
       "<style scoped>\n",
       "    .dataframe tbody tr th:only-of-type {\n",
       "        vertical-align: middle;\n",
       "    }\n",
       "\n",
       "    .dataframe tbody tr th {\n",
       "        vertical-align: top;\n",
       "    }\n",
       "\n",
       "    .dataframe thead th {\n",
       "        text-align: right;\n",
       "    }\n",
       "</style>\n",
       "<table border=\"1\" class=\"dataframe\">\n",
       "  <thead>\n",
       "    <tr style=\"text-align: right;\">\n",
       "      <th></th>\n",
       "      <th>X</th>\n",
       "      <th>Lasso_Model_Weight</th>\n",
       "    </tr>\n",
       "  </thead>\n",
       "  <tbody>\n",
       "    <tr>\n",
       "      <th>0</th>\n",
       "      <td>RH_out</td>\n",
       "      <td>-0.049557</td>\n",
       "    </tr>\n",
       "    <tr>\n",
       "      <th>1</th>\n",
       "      <td>RH_8</td>\n",
       "      <td>-0.000110</td>\n",
       "    </tr>\n",
       "    <tr>\n",
       "      <th>24</th>\n",
       "      <td>Windspeed</td>\n",
       "      <td>0.002912</td>\n",
       "    </tr>\n",
       "    <tr>\n",
       "      <th>25</th>\n",
       "      <td>RH_1</td>\n",
       "      <td>0.017880</td>\n",
       "    </tr>\n",
       "  </tbody>\n",
       "</table>\n",
       "</div>"
      ],
      "text/plain": [
       "            X  Lasso_Model_Weight\n",
       "0      RH_out           -0.049557\n",
       "1        RH_8           -0.000110\n",
       "24  Windspeed            0.002912\n",
       "25       RH_1            0.017880"
      ]
     },
     "execution_count": 25,
     "metadata": {},
     "output_type": "execute_result"
    }
   ],
   "source": [
    "new_features_weight.loc[new_features_weight['Lasso_Model_Weight']!=0] #feature weights that are not equal to 0"
   ]
  },
  {
   "cell_type": "markdown",
   "id": "5a2a08fb",
   "metadata": {
    "papermill": {
     "duration": 0.015165,
     "end_time": "2023-06-07T16:19:56.833172",
     "exception": false,
     "start_time": "2023-06-07T16:19:56.818007",
     "status": "completed"
    },
    "tags": []
   },
   "source": [
    "**4 feaures have non-zero weights**"
   ]
  },
  {
   "cell_type": "markdown",
   "id": "e1586b0f",
   "metadata": {
    "papermill": {
     "duration": 0.014461,
     "end_time": "2023-06-07T16:19:56.862428",
     "exception": false,
     "start_time": "2023-06-07T16:19:56.847967",
     "status": "completed"
    },
    "tags": []
   },
   "source": [
    "---\n",
    "**Question 20**\n",
    "\n",
    "What is the new RMSE with the lasso regression? (Answer should be in three (3) decimal places)\n",
    "\n",
    "---"
   ]
  },
  {
   "cell_type": "code",
   "execution_count": 26,
   "id": "14010b37",
   "metadata": {
    "execution": {
     "iopub.execute_input": "2023-06-07T16:19:56.894770Z",
     "iopub.status.busy": "2023-06-07T16:19:56.894058Z",
     "iopub.status.idle": "2023-06-07T16:19:56.900884Z",
     "shell.execute_reply": "2023-06-07T16:19:56.899723Z"
    },
    "papermill": {
     "duration": 0.025436,
     "end_time": "2023-06-07T16:19:56.902907",
     "exception": false,
     "start_time": "2023-06-07T16:19:56.877471",
     "status": "completed"
    },
    "tags": []
   },
   "outputs": [
    {
     "name": "stdout",
     "output_type": "stream",
     "text": [
      "The new RMSE with the lasso regression is 0.094\n"
     ]
    }
   ],
   "source": [
    "rmse_las = np.sqrt(mean_squared_error(y_test, y_pred_las)) #check rmse of lasso model\n",
    "\n",
    "print('The new RMSE with the lasso regression is {}'.format(round(rmse_las,3)))"
   ]
  }
 ],
 "metadata": {
  "kernelspec": {
   "display_name": "Python 3",
   "language": "python",
   "name": "python3"
  },
  "language_info": {
   "codemirror_mode": {
    "name": "ipython",
    "version": 3
   },
   "file_extension": ".py",
   "mimetype": "text/x-python",
   "name": "python",
   "nbconvert_exporter": "python",
   "pygments_lexer": "ipython3",
   "version": "3.10.10"
  },
  "papermill": {
   "default_parameters": {},
   "duration": 16.587897,
   "end_time": "2023-06-07T16:19:57.839771",
   "environment_variables": {},
   "exception": null,
   "input_path": "__notebook__.ipynb",
   "output_path": "__notebook__.ipynb",
   "parameters": {},
   "start_time": "2023-06-07T16:19:41.251874",
   "version": "2.4.0"
  }
 },
 "nbformat": 4,
 "nbformat_minor": 5
}
